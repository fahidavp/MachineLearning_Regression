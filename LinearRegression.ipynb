{
 "cells": [
  {
   "cell_type": "markdown",
   "metadata": {},
   "source": [
    "# Implementing Linear Regression Model"
   ]
  },
  {
   "cell_type": "code",
   "execution_count": 2,
   "metadata": {},
   "outputs": [
    {
     "name": "stdout",
     "output_type": "stream",
     "text": [
      "(237, 4)\n",
      "   Gender  Age Range  Head Size(cm^3)  Brain Weight(grams)\n",
      "0       1          1             4512                 1530\n",
      "1       1          1             3738                 1297\n",
      "2       1          1             4261                 1335\n",
      "3       1          1             3777                 1282\n",
      "4       1          1             4177                 1590\n"
     ]
    }
   ],
   "source": [
    "import numpy as np\n",
    "import pandas as pd\n",
    "import matplotlib.pyplot as plt\n",
    "\n",
    "data=pd.read_csv(\"headbrain.csv\")\n",
    "print(data.shape)\n",
    "print(data.head())"
   ]
  },
  {
   "cell_type": "code",
   "execution_count": 3,
   "metadata": {},
   "outputs": [],
   "source": [
    "X=data[\"Head Size(cm^3)\"].values\n",
    "Y=data[\"Brain Weight(grams)\"].values"
   ]
  },
  {
   "cell_type": "code",
   "execution_count": 4,
   "metadata": {},
   "outputs": [
    {
     "name": "stdout",
     "output_type": "stream",
     "text": [
      "0.26342933948939945 325.57342104944223\n"
     ]
    }
   ],
   "source": [
    "mean_x=np.mean(X)\n",
    "mean_y=np.mean(Y)\n",
    "\n",
    "\n",
    "nominator=0\n",
    "denominator=0\n",
    "l=len(X)\n",
    "for i in range(l):\n",
    "    nominator+=(X[i]-mean_x)*(Y[i]-mean_y)\n",
    "    denominator+=(X[i]-mean_x)**2\n",
    "m_regline=nominator/denominator\n",
    "y_intercept=mean_y-(m_regline*mean_x)\n",
    "print(m_regline,y_intercept)"
   ]
  },
  {
   "cell_type": "code",
   "execution_count": 5,
   "metadata": {},
   "outputs": [
    {
     "data": {
      "image/png": "[encoded data removed]",
      "text/plain": [
       "<Figure size 432x288 with 1 Axes>"
      ]
     },
     "metadata": {
      "needs_background": "light"
     },
     "output_type": "display_data"
    }
   ],
   "source": [
    "#Y_p=m_regline*X+y_intercept\n",
    "max_x=np.max(X)\n",
    "min_x=np.min(X)\n",
    "Xp=np.linspace(min_x,max_x,1000)\n",
    "l=len(Xp)\n",
    "\n",
    "Yp=[]\n",
    "for i in range(l):\n",
    "    Yp.append((m_regline*Xp[i])+y_intercept)\n",
    "    \n",
    "#plot X - Yp\n",
    "plt.plot(Xp,Yp,color=\"Red\",label=\"Regression Line\")\n",
    "plt.scatter(X,Y,color=\"Orange\",label=\"Scatter Plot\")\n",
    "plt.xlabel(\"Head Size(cm^3)\")\n",
    "plt.ylabel(\"Brain Weight(grams)\")\n",
    "plt.legend()\n",
    "plt.show()"
   ]
  },
  {
   "cell_type": "code",
   "execution_count": 6,
   "metadata": {},
   "outputs": [
    {
     "name": "stdout",
     "output_type": "stream",
     "text": [
      "237\n",
      "1000\n"
     ]
    }
   ],
   "source": [
    "print(len(Y))\n",
    "print(len(Yp))"
   ]
  },
  {
   "cell_type": "code",
   "execution_count": 7,
   "metadata": {},
   "outputs": [
    {
     "name": "stdout",
     "output_type": "stream",
     "text": [
      "R Square:0.6393117199570003\n"
     ]
    }
   ],
   "source": [
    "d=0\n",
    "n=0\n",
    "for i in range(len(X)):\n",
    "    Ypred=(m_regline*X[i])+y_intercept\n",
    "    d+=(Y[i]-mean_y)**2\n",
    "    n+=(Ypred-Y[i])**2\n",
    "R_square=1-(n/d)\n",
    "R=np.sqrt(R_square)\n",
    "print(\"R Square:{}\".format(R_square))"
   ]
  },
  {
   "cell_type": "markdown",
   "metadata": {},
   "source": [
    "# Here we are using scikit learn library to get Linear Regression model. "
   ]
  },
  {
   "cell_type": "code",
   "execution_count": 8,
   "metadata": {},
   "outputs": [
    {
     "name": "stdout",
     "output_type": "stream",
     "text": [
      "R Square:0.639311719957\n",
      "Mean Absolute Error:56.36724079565055\n"
     ]
    }
   ],
   "source": [
    "from sklearn.linear_model import LinearRegression\n",
    "from sklearn.metrics import mean_absolute_error\n",
    "\n",
    "#cannot use rank 1 matrix in skikit learn\n",
    "X=X.reshape(-1,1)\n",
    "#Build model\n",
    "reg=LinearRegression()\n",
    "#Fitting training data\n",
    "reg=reg.fit(X,Y)\n",
    "#predict\n",
    "Y_pred=reg.predict(X)\n",
    "#evaluate\n",
    "r2_score=reg.score(X,Y)\n",
    "print(\"R Square:{}\".format(r2_score))\n",
    "print(\"Mean Absolute Error:{}\".format(mean_absolute_error(Y_pred,Y)))"
   ]
  },
  {
   "cell_type": "markdown",
   "metadata": {},
   "source": [
    "# Split entire dataset into train and test datasets. Fit model with training dataset and evaluate with test dataset and see the difference."
   ]
  },
  {
   "cell_type": "code",
   "execution_count": 9,
   "metadata": {},
   "outputs": [
    {
     "name": "stdout",
     "output_type": "stream",
     "text": [
      "Mean Absolute Error:56.935401199136244\n"
     ]
    }
   ],
   "source": [
    "from sklearn.model_selection import train_test_split\n",
    "from sklearn.linear_model import LinearRegression\n",
    "from sklearn.metrics import mean_absolute_error\n",
    "\n",
    "## Split into validation and training data\n",
    "train_X, test_X, train_y, test_y = train_test_split(X, Y,test_size=0.3, random_state=1)\n",
    "#build model\n",
    "linmodel=LinearRegression()\n",
    "#Fit model to training data\n",
    "linmodel.fit(train_X,train_y)\n",
    "#predict\n",
    "prediction=linmodel.predict(test_X)\n",
    "#evaluate\n",
    "val_mae = mean_absolute_error(test_y,prediction)\n",
    "print(\"Mean Absolute Error:{}\".format(val_mae))"
   ]
  },
  {
   "cell_type": "code",
   "execution_count": null,
   "metadata": {},
   "outputs": [],
   "source": []
  }
 ],
 "metadata": {
  "kernelspec": {
   "display_name": "Python 3",
   "language": "python",
   "name": "python3"
  },
  "language_info": {
   "codemirror_mode": {
    "name": "ipython",
    "version": 3
   },
   "file_extension": ".py",
   "mimetype": "text/x-python",
   "name": "python",
   "nbconvert_exporter": "python",
   "pygments_lexer": "ipython3",
   "version": "3.7.4"
  }
 },
 "nbformat": 4,
 "nbformat_minor": 2
}
